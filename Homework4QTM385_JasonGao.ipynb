{
 "cells": [
  {
   "cell_type": "markdown",
   "metadata": {},
   "source": [
    "# QTM 385\n",
    "\n",
    "***\n",
    "\n",
    "## Homework 4\n",
    "\n",
    "Student: [2325490]"
   ]
  },
  {
   "cell_type": "markdown",
   "metadata": {},
   "source": [
    "In this homework, we will create an object called Student, that is useful for a professor to store information about a student."
   ]
  },
  {
   "cell_type": "markdown",
   "metadata": {},
   "source": [
    "\n",
    "***\n",
    "\n",
    "### Question 1\n",
    "\n",
    "Create a class Student, that has:\n",
    "\n",
    "0. Id number (5-digits integer, starting with 1)\n",
    "1. First Name (str)\n",
    "2. Last Name (str)\n",
    "3. Grades (list of floats)\n",
    "4. Credits (list of integers)\n",
    "5. Major (str)\n",
    "\n",
    "Provide a constructor for your class and create one fictitious student."
   ]
  },
  {
   "cell_type": "code",
   "execution_count": 1,
   "metadata": {},
   "outputs": [],
   "source": [
    "# Your answer here\n",
    "class Student:\n",
    "    def __init__(self, idn, fn, ln, gr, cr, mj):\n",
    "        self.idnumber = idn\n",
    "        self.firstname = fn\n",
    "        self.lastname = ln\n",
    "        self.grades = gr \n",
    "        self.credits = cr\n",
    "        self.major = mj\n",
    "\n",
    "stu = Student(14578, 'Paul', 'Atreides', [3.7, 3.3, 4.0], [4, 3, 3], 'Financial Mathematics')"
   ]
  },
  {
   "cell_type": "markdown",
   "metadata": {},
   "source": [
    "\n",
    "***\n",
    "\n",
    "### Question 2\n",
    "\n",
    "Create a method to nicely display the student when we type `print`. It should display, for example:\n",
    "\n",
    "```\n",
    "Student:\n",
    "    Id: 12345\n",
    "    Name: Mig, Umberto\n",
    "    Major: QSS\n",
    "```\n",
    "\n",
    "Create a method that, when a variable storing a student is typed in the console, displays:\n",
    "\n",
    "```\n",
    "Student(Mig, Umberto; 12345)\n",
    "```\n",
    "\n",
    "Provide some testing with a fictitious result of your choice."
   ]
  },
  {
   "cell_type": "code",
   "execution_count": 2,
   "metadata": {},
   "outputs": [
    {
     "name": "stdout",
     "output_type": "stream",
     "text": [
      "\n",
      "Student:\n",
      "    Id: 14578\n",
      "    Name: Atreides, Paul\n",
      "    Major: Sand Construction\n",
      "    \n"
     ]
    }
   ],
   "source": [
    "# Your answer here\n",
    "class Student:\n",
    "    def __init__(self, idn, fn, ln, gr, cr, mj):\n",
    "        self.idnumber = idn\n",
    "        self.firstname = fn\n",
    "        self.lastname = ln\n",
    "        self.grades = gr \n",
    "        self.credits = cr\n",
    "        self.major = mj\n",
    "        \n",
    "    def __str__(self):\n",
    "        st_info = \"\"\"\n",
    "Student:\n",
    "    Id: {idn}\n",
    "    Name: {ln}, {fn}\n",
    "    Major: {mj}\n",
    "    \"\"\".format(idn = self.idnumber, fn = self.firstname, ln = self.lastname, mj = self.major)\n",
    "        return st_info\n",
    "    \n",
    "    def __repr__(self):\n",
    "        return \"Student({ln}, {fn}; {idn})\".format(ln = self.lastname, fn = self.firstname, idn = self.idnumber)\n",
    "    \n",
    "stu = Student(14578, 'Paul', 'Atreides', [3.7, 3.3, 4.0], [4, 3, 3], 'Sand Construction')\n",
    "print(stu)"
   ]
  },
  {
   "cell_type": "code",
   "execution_count": 3,
   "metadata": {},
   "outputs": [
    {
     "data": {
      "text/plain": [
       "Student(Atreides, Paul; 14578)"
      ]
     },
     "execution_count": 3,
     "metadata": {},
     "output_type": "execute_result"
    }
   ],
   "source": [
    "stu"
   ]
  },
  {
   "cell_type": "markdown",
   "metadata": {},
   "source": [
    "\n",
    "***\n",
    "\n",
    "### Question 3\n",
    "\n",
    "Implement class methods for:\n",
    "\n",
    "1. Check if the id number is valid (remember: 5 digits, starting with number one)\n",
    "2. Check if the grades list has the same length as the credits list. The idea is that every grade corresponds to a course that gave the student a certain amount of credits.\n",
    "3. Append grade and credit: given a grade, and credits attached to the grade, append both to each respective place.\n",
    "\n",
    "Test your function with a toy student of your choice."
   ]
  },
  {
   "cell_type": "code",
   "execution_count": 4,
   "metadata": {},
   "outputs": [],
   "source": [
    "# Your answer here\n",
    "class Student:\n",
    "    def __init__(self, idn, fn, ln, gr, cr, mj):\n",
    "        self.idnumber = idn\n",
    "        self.firstname = fn\n",
    "        self.lastname = ln\n",
    "        self.grades = gr \n",
    "        self.credits = cr\n",
    "        self.major = mj\n",
    "        self.id = str(idn) \n",
    "\n",
    "    def check_id(self):\n",
    "        if len(self.id) != 5 or self.id[0] != 1:\n",
    "            return('The id number is not valid!')\n",
    "        else:\n",
    "            return('The id number is valid!')\n",
    "        \n",
    "    def check_credits(self):\n",
    "        if len(self.grades) != len(self.credits):\n",
    "            return('Credits and grades do not conform!')\n",
    "        else:\n",
    "            return('Credits and grades conform!')\n",
    "        \n",
    "    def append_grcr(self, g, c):\n",
    "        self.grades.append(g)\n",
    "        self.credits.append(c)\n",
    "            \n",
    "stu = Student(14578, 'Paul', 'Atreides', [3.7, 3.3, 4.0], [4, 3, 3], 'Financial Mathematics')\n",
    "stu1 = Student(237891, 'Harry', 'Kane', [4.0, 3.3], [3, 4, 4], 'Chemistry')"
   ]
  },
  {
   "cell_type": "code",
   "execution_count": 5,
   "metadata": {},
   "outputs": [
    {
     "name": "stdout",
     "output_type": "stream",
     "text": [
      "The id number is not valid!\n",
      "The id number is not valid!\n",
      "Credits and grades conform!\n",
      "Credits and grades do not conform!\n"
     ]
    }
   ],
   "source": [
    "print(stu.check_id())\n",
    "print(stu1.check_id())\n",
    "print(stu.check_credits())\n",
    "print(stu1.check_credits())"
   ]
  },
  {
   "cell_type": "code",
   "execution_count": 6,
   "metadata": {},
   "outputs": [
    {
     "name": "stdout",
     "output_type": "stream",
     "text": [
      "[3.7, 3.3, 4.0, 3.0] [4, 3, 3, 5]\n"
     ]
    }
   ],
   "source": [
    "stu.append_grcr(3.0, 5)\n",
    "print(stu.grades, stu.credits)"
   ]
  },
  {
   "cell_type": "markdown",
   "metadata": {},
   "source": [
    "\n",
    "***\n",
    "\n",
    "### Question 4\n",
    "\n",
    "Create a module in the class Student that computes the unweighted average of the student's grades."
   ]
  },
  {
   "cell_type": "code",
   "execution_count": 7,
   "metadata": {},
   "outputs": [],
   "source": [
    "# Your answer here\n",
    "class Student:\n",
    "    def __init__(self, idn, fn, ln, gr, cr, mj):\n",
    "        self.idnumber = idn\n",
    "        self.firstname = fn\n",
    "        self.lastname = ln\n",
    "        self.grades = gr \n",
    "        self.credits = cr\n",
    "        self.major = mj\n",
    "        self.id = str(idn) \n",
    "\n",
    "    def check_id(self):\n",
    "        if len(self.id) != 5 or self.id[0] == 1:\n",
    "            return('The id number is not valid!')\n",
    "        else:\n",
    "            return('The id number is valid!')\n",
    "        \n",
    "    def check_credits(self):\n",
    "        if len(self.grades) != len(self.credits):\n",
    "            return('Credits and grades do not conform!')\n",
    "        else:\n",
    "            return('Credits and grades conform!')\n",
    "        \n",
    "    def append_grcr(self, g, c):\n",
    "        self.grades.append(g)\n",
    "        self.credits.append(c)\n",
    "    \n",
    "    def unw_avggrades(self):\n",
    "        avg = 0\n",
    "        for i in self.grades:\n",
    "            avg += i\n",
    "        avg = avg / len(self.grades)\n",
    "        return avg"
   ]
  },
  {
   "cell_type": "code",
   "execution_count": 8,
   "metadata": {},
   "outputs": [
    {
     "name": "stdout",
     "output_type": "stream",
     "text": [
      "3.6666666666666665\n",
      "3.4333333333333336\n"
     ]
    }
   ],
   "source": [
    "stu = Student(14578, 'Paul', 'Atreides', [3.7, 3.3, 4.0], [4, 3, 3], 'Financial Mathematics')\n",
    "stu1 = Student(237891, 'Harry', 'Kane', [4.0, 3.3, 3.0], [3, 4, 4], 'Chemistry')\n",
    "print(stu.unw_avggrades())\n",
    "print(stu1.unw_avggrades())"
   ]
  },
  {
   "cell_type": "markdown",
   "metadata": {},
   "source": [
    "\n",
    "***\n",
    "\n",
    "### Question 5\n",
    "\n",
    "Create a module in the class Student that computes the weighted average of the student's grades, weighted by the credits."
   ]
  },
  {
   "cell_type": "code",
   "execution_count": 9,
   "metadata": {},
   "outputs": [],
   "source": [
    "# Your answer here\n",
    "class Student:\n",
    "    def __init__(self, idn, fn, ln, gr, cr, mj):\n",
    "        self.idnumber = idn\n",
    "        self.firstname = fn\n",
    "        self.lastname = ln\n",
    "        self.grades = gr \n",
    "        self.credits = cr\n",
    "        self.major = mj\n",
    "        self.id = str(idn) \n",
    "\n",
    "    def check_id(self):\n",
    "        if len(self.id) != 5 or self.id[0] == 1:\n",
    "            return('The id number is not valid!')\n",
    "        else:\n",
    "            return('The id number is valid!')\n",
    "        \n",
    "    def check_credits(self):\n",
    "        if len(self.grades) != len(self.credits):\n",
    "            return('Credits and grades do not conform!')\n",
    "        else:\n",
    "            return('Credits and grades conform!')\n",
    "        \n",
    "    def append_grcr(self, g, c):\n",
    "        self.grades.append(g)\n",
    "        self.credits.append(c)\n",
    "    \n",
    "    def unw_avggrades(self):\n",
    "        avg = 0\n",
    "        for i in self.grades:\n",
    "            avg += i\n",
    "        avg = avg / len(self.grades)\n",
    "        return avg\n",
    "    \n",
    "    def w_avggrades(self):\n",
    "        totalpoint = 0\n",
    "        totalcredits = 0\n",
    "        grade_length = len(self.grades)\n",
    "        for i in range(grade_length):\n",
    "            totalpoint += self.grades[i] * self.credits[i]\n",
    "            totalcredits += self.credits[i]\n",
    "        avg = totalpoint / totalcredits\n",
    "        return avg "
   ]
  },
  {
   "cell_type": "code",
   "execution_count": 10,
   "metadata": {},
   "outputs": [
    {
     "name": "stdout",
     "output_type": "stream",
     "text": [
      "3.6700000000000004\n",
      "3.3818181818181823\n"
     ]
    }
   ],
   "source": [
    "stu = Student(14578, 'Paul', 'Atreides', [3.7, 3.3, 4.0], [4, 3, 3], 'Financial Mathematics')\n",
    "stu1 = Student(237891, 'Harry', 'Kane', [4.0, 3.3, 3.0], [3, 4, 4], 'Chemistry')\n",
    "print(stu.w_avggrades())\n",
    "print(stu1.w_avggrades())"
   ]
  },
  {
   "cell_type": "markdown",
   "metadata": {},
   "source": [
    "**That's all, folks!**"
   ]
  }
 ],
 "metadata": {
  "kernelspec": {
   "display_name": "Python 3",
   "language": "python",
   "name": "python3"
  },
  "language_info": {
   "codemirror_mode": {
    "name": "ipython",
    "version": 3
   },
   "file_extension": ".py",
   "mimetype": "text/x-python",
   "name": "python",
   "nbconvert_exporter": "python",
   "pygments_lexer": "ipython3",
   "version": "3.8.3"
  }
 },
 "nbformat": 4,
 "nbformat_minor": 4
}
